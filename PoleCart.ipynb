{
  "nbformat": 4,
  "nbformat_minor": 0,
  "metadata": {
    "colab": {
      "provenance": [],
      "authorship_tag": "ABX9TyPSIlXKtR6kioj2XS8bk8lh",
      "include_colab_link": true
    },
    "kernelspec": {
      "name": "python3",
      "display_name": "Python 3"
    },
    "language_info": {
      "name": "python"
    }
  },
  "cells": [
    {
      "cell_type": "markdown",
      "metadata": {
        "id": "view-in-github",
        "colab_type": "text"
      },
      "source": [
        "<a href=\"https://colab.research.google.com/github/Rage1010/RL/blob/midterm/PoleCart.ipynb\" target=\"_parent\"><img src=\"https://colab.research.google.com/assets/colab-badge.svg\" alt=\"Open In Colab\"/></a>"
      ]
    },
    {
      "cell_type": "code",
      "source": [
        "!pip install moviepy"
      ],
      "metadata": {
        "colab": {
          "base_uri": "https://localhost:8080/"
        },
        "id": "8GQduFKjheqk",
        "outputId": "dbad84c5-6937-4ca0-e39f-b0347c62d1b2"
      },
      "execution_count": null,
      "outputs": [
        {
          "output_type": "stream",
          "name": "stdout",
          "text": [
            "Requirement already satisfied: moviepy in /usr/local/lib/python3.10/dist-packages (1.0.3)\n",
            "Requirement already satisfied: decorator<5.0,>=4.0.2 in /usr/local/lib/python3.10/dist-packages (from moviepy) (4.4.2)\n",
            "Requirement already satisfied: tqdm<5.0,>=4.11.2 in /usr/local/lib/python3.10/dist-packages (from moviepy) (4.66.4)\n",
            "Requirement already satisfied: requests<3.0,>=2.8.1 in /usr/local/lib/python3.10/dist-packages (from moviepy) (2.31.0)\n",
            "Requirement already satisfied: proglog<=1.0.0 in /usr/local/lib/python3.10/dist-packages (from moviepy) (0.1.10)\n",
            "Requirement already satisfied: numpy>=1.17.3 in /usr/local/lib/python3.10/dist-packages (from moviepy) (1.25.2)\n",
            "Requirement already satisfied: imageio<3.0,>=2.5 in /usr/local/lib/python3.10/dist-packages (from moviepy) (2.31.6)\n",
            "Requirement already satisfied: imageio-ffmpeg>=0.2.0 in /usr/local/lib/python3.10/dist-packages (from moviepy) (0.5.1)\n",
            "Requirement already satisfied: pillow<10.1.0,>=8.3.2 in /usr/local/lib/python3.10/dist-packages (from imageio<3.0,>=2.5->moviepy) (9.4.0)\n",
            "Requirement already satisfied: setuptools in /usr/local/lib/python3.10/dist-packages (from imageio-ffmpeg>=0.2.0->moviepy) (67.7.2)\n",
            "Requirement already satisfied: charset-normalizer<4,>=2 in /usr/local/lib/python3.10/dist-packages (from requests<3.0,>=2.8.1->moviepy) (3.3.2)\n",
            "Requirement already satisfied: idna<4,>=2.5 in /usr/local/lib/python3.10/dist-packages (from requests<3.0,>=2.8.1->moviepy) (3.7)\n",
            "Requirement already satisfied: urllib3<3,>=1.21.1 in /usr/local/lib/python3.10/dist-packages (from requests<3.0,>=2.8.1->moviepy) (2.0.7)\n",
            "Requirement already satisfied: certifi>=2017.4.17 in /usr/local/lib/python3.10/dist-packages (from requests<3.0,>=2.8.1->moviepy) (2024.6.2)\n"
          ]
        }
      ]
    },
    {
      "cell_type": "code",
      "source": [
        "!pip install gymnasium"
      ],
      "metadata": {
        "colab": {
          "base_uri": "https://localhost:8080/"
        },
        "id": "UfnAkxq8aRij",
        "outputId": "53d04689-1be1-4ac3-a8db-89465668a196"
      },
      "execution_count": 2,
      "outputs": [
        {
          "output_type": "stream",
          "name": "stdout",
          "text": [
            "Collecting gymnasium\n",
            "  Downloading gymnasium-0.29.1-py3-none-any.whl (953 kB)\n",
            "\u001b[2K     \u001b[90m━━━━━━━━━━━━━━━━━━━━━━━━━━━━━━━━━━━━━━━━\u001b[0m \u001b[32m953.9/953.9 kB\u001b[0m \u001b[31m4.1 MB/s\u001b[0m eta \u001b[36m0:00:00\u001b[0m\n",
            "\u001b[?25hRequirement already satisfied: numpy>=1.21.0 in /usr/local/lib/python3.10/dist-packages (from gymnasium) (1.25.2)\n",
            "Requirement already satisfied: cloudpickle>=1.2.0 in /usr/local/lib/python3.10/dist-packages (from gymnasium) (2.2.1)\n",
            "Requirement already satisfied: typing-extensions>=4.3.0 in /usr/local/lib/python3.10/dist-packages (from gymnasium) (4.12.2)\n",
            "Collecting farama-notifications>=0.0.1 (from gymnasium)\n",
            "  Downloading Farama_Notifications-0.0.4-py3-none-any.whl (2.5 kB)\n",
            "Installing collected packages: farama-notifications, gymnasium\n",
            "Successfully installed farama-notifications-0.0.4 gymnasium-0.29.1\n"
          ]
        }
      ]
    },
    {
      "cell_type": "code",
      "source": [
        "import numpy as np\n",
        "import random\n",
        "import matplotlib.pyplot as plt"
      ],
      "metadata": {
        "id": "bKbsLj43pF2Z"
      },
      "execution_count": 3,
      "outputs": []
    },
    {
      "cell_type": "code",
      "execution_count": 4,
      "metadata": {
        "id": "l1xoinaUuh1h"
      },
      "outputs": [],
      "source": [
        "import gymnasium as gym\n",
        "from moviepy.editor import ImageSequenceClip\n",
        "from IPython.display import Video\n",
        "env  = gym.make(\"CartPole-v1\", render_mode=\"rgb_array\")"
      ]
    },
    {
      "cell_type": "code",
      "source": [
        "observation, info = env.reset()"
      ],
      "metadata": {
        "id": "HHXHUUGIapAJ"
      },
      "execution_count": 5,
      "outputs": []
    },
    {
      "cell_type": "markdown",
      "source": [
        "This imports the environment."
      ],
      "metadata": {
        "id": "WIW0oUjGZ8KU"
      }
    },
    {
      "cell_type": "code",
      "source": [
        "epsilon = 0.80\n",
        "ep_count = 1\n",
        "frames = []\n",
        "action_value = np.zeros((10,10,10,10,2))\n",
        "gamma = 0.9\n",
        "lamda = 0.9\n",
        "l = [0,1]\n",
        "alpha = 0.5\n",
        "r = []\n",
        "number_of_times_seen = np.ones((10,10,10,10,2))"
      ],
      "metadata": {
        "id": "5_bt3YQEN5w_"
      },
      "execution_count": 56,
      "outputs": []
    },
    {
      "cell_type": "code",
      "source": [
        "def f(pos):\n",
        "  s = int(((pos * 600.0)/12.0) + 5)\n",
        "  s = max(s, 0)\n",
        "  s = min(s, 9)\n",
        "  return s\n",
        "def f2(vel):\n",
        "  s = int(((vel * 100.0)/11.0) + 5)\n",
        "  s = max(s, 0)\n",
        "  s = min(s, 9)\n",
        "  return s\n",
        "def f3(apos):\n",
        "  s = int(((apos * 25.0)/0.419) + 5)\n",
        "  s = max(s, 0)\n",
        "  s = min(s, 9)\n",
        "  return s\n",
        "def f4(avel):\n",
        "  s = int(((avel * 80.0)/8.0) + 5)\n",
        "  s = max(s, 0)\n",
        "  s = min(s, 9)\n",
        "  return s"
      ],
      "metadata": {
        "id": "0BpNdDMAvFMH"
      },
      "execution_count": 7,
      "outputs": []
    },
    {
      "cell_type": "code",
      "source": [
        "for p in range(1500000):\n",
        "  init = random.uniform(0, 1)\n",
        "  observation, info = env.reset()\n",
        "  action = np.argmax(action_value[f(observation[0])][f2(observation[1])][f3(observation[2])][f4(observation[3])])\n",
        "  if init > epsilon:\n",
        "    action = random.choice(l)\n",
        "  pos = f(observation[0])\n",
        "  vel = f2(observation[1])\n",
        "  apos = f3(observation[2])\n",
        "  avel = f4(observation[3])\n",
        "  elig_trace = np.zeros((10,10,10,10,2))\n",
        "  rwd = 0\n",
        "  for t in range(500):\n",
        "      # print(t)\n",
        "      alpha = 1.0/(len(r)+1)\n",
        "      # if p == 499:\n",
        "      #   frames.append(env.render())\n",
        "      number_of_times_seen[pos][vel][apos][avel][action] += 1\n",
        "      observation, reward, terminated, truncated, info = env.step(action)\n",
        "      posdash = f(observation[0])\n",
        "      veldash = f2(observation[1])\n",
        "      aposdash = f3(observation[2])\n",
        "      aveldash = f4(observation[3])\n",
        "      dice = random.uniform(0, 1)\n",
        "      actiondash = 0\n",
        "     #  print(posdash, veldash, aposdash, aveldash)\n",
        "      vals = action_value[posdash][veldash][aposdash][aveldash]\n",
        "      if vals[1] > vals[0]:\n",
        "        actiondash = 1\n",
        "      if vals[0] == vals[1]:\n",
        "        if dice > 0.5:\n",
        "          actiondash = 1\n",
        "      else:\n",
        "        if dice > (epsilon+1)/2:\n",
        "          actiondash = 1 - actiondash\n",
        "      delta = reward + gamma * action_value[posdash][veldash][posdash][aveldash][actiondash] - action_value[pos][vel][apos][avel][action]\n",
        "      elig_trace[pos][vel][apos][avel][action] += 1\n",
        "      action_value += delta * ( elig_trace / number_of_times_seen )\n",
        "      elig_trace *= (gamma * lamda)\n",
        "      # if pos == 5 and vel == 5 and apos == 5 and avel == 5:\n",
        "      #   print(elig_trace[pos][vel][apos][avel])\n",
        "      #   print(number_of_times_seen[pos][vel][apos][avel])\n",
        "      #   print(reward)\n",
        "      #   print(delta)\n",
        "      #   print(action_value[pos][vel][apos][avel])\n",
        "      pos , vel , apos, avel, action = posdash, veldash, aposdash, aveldash, actiondash\n",
        "      rwd += reward\n",
        "      if terminated or truncated:\n",
        "        break\n",
        "  r.append(rwd)\n",
        "env.close()\n",
        "x = [i + 1 for i in range(len(r))]\n",
        "plt.plot(x, r)\n",
        "plt.show()\n",
        "# clip = ImageSequenceClip(frames, fps=30)\n",
        "# clip.write_videofile('/home/raghav/Desktop/RL/cartpole.mp4')\n",
        "# Video('/home/raghav/Desktop/RL/cartpole.mp4', embed=True)\n"
      ],
      "metadata": {
        "id": "19LUuXTVauLv",
        "colab": {
          "base_uri": "https://localhost:8080/",
          "height": 468
        },
        "outputId": "a82dab93-8f97-4653-d9ab-064c51db6134"
      },
      "execution_count": 57,
      "outputs": [
        {
          "output_type": "display_data",
          "data": {
            "text/plain": [
              "<Figure size 640x480 with 1 Axes>"
            ],
            "image/png": "[encoded data removed]"
          },
          "metadata": {}
        }
      ]
    },
    {
      "cell_type": "code",
      "source": [
        "print(action_value[5][5][5][5][0])"
      ],
      "metadata": {
        "colab": {
          "base_uri": "https://localhost:8080/",
          "height": 161
        },
        "id": "03CBtHny7dGY",
        "outputId": "f8c4d147-c2da-499f-d4fe-c807c22c0ba2"
      },
      "execution_count": 1,
      "outputs": [
        {
          "output_type": "error",
          "ename": "NameError",
          "evalue": "name 'action_value' is not defined",
          "traceback": [
            "\u001b[0;31m---------------------------------------------------------------------------\u001b[0m",
            "\u001b[0;31mNameError\u001b[0m                                 Traceback (most recent call last)",
            "\u001b[0;32m<ipython-input-1-fbe8605a9d80>\u001b[0m in \u001b[0;36m<cell line: 1>\u001b[0;34m()\u001b[0m\n\u001b[0;32m----> 1\u001b[0;31m \u001b[0mprint\u001b[0m\u001b[0;34m(\u001b[0m\u001b[0maction_value\u001b[0m\u001b[0;34m[\u001b[0m\u001b[0;36m5\u001b[0m\u001b[0;34m]\u001b[0m\u001b[0;34m[\u001b[0m\u001b[0;36m5\u001b[0m\u001b[0;34m]\u001b[0m\u001b[0;34m[\u001b[0m\u001b[0;36m5\u001b[0m\u001b[0;34m]\u001b[0m\u001b[0;34m[\u001b[0m\u001b[0;36m5\u001b[0m\u001b[0;34m]\u001b[0m\u001b[0;34m[\u001b[0m\u001b[0;36m0\u001b[0m\u001b[0;34m]\u001b[0m\u001b[0;34m)\u001b[0m\u001b[0;34m\u001b[0m\u001b[0;34m\u001b[0m\u001b[0m\n\u001b[0m",
            "\u001b[0;31mNameError\u001b[0m: name 'action_value' is not defined"
          ]
        }
      ]
    },
    {
      "cell_type": "code",
      "source": [
        "t = np.array(r)\n",
        "array = []\n",
        "for e in range(15000):\n",
        "  array.append(np.mean(r[(100 * e) : (100 * (e + 1))]))\n",
        "x = [i + 1 for i in range(len(array))]\n",
        "plt.plot(x, array)\n",
        "plt.show()"
      ],
      "metadata": {
        "colab": {
          "base_uri": "https://localhost:8080/",
          "height": 450
        },
        "id": "SHXdSQx-y4bS",
        "outputId": "016027c2-dab8-4bb3-8fc4-8185d994d074"
      },
      "execution_count": 58,
      "outputs": [
        {
          "output_type": "display_data",
          "data": {
            "text/plain": [
              "<Figure size 640x480 with 1 Axes>"
            ],
            "image/png": "[encoded data removed]"
          },
          "metadata": {}
        }
      ]
    },
    {
      "cell_type": "code",
      "source": [
        "for p in range(200000):\n",
        "  ldone = set()\n",
        "  observation, info = env.reset()\n",
        "  action = random.choice(l)\n",
        "  pos = f(observation[0])\n",
        "  vel = f2(observation[1])\n",
        "  apos = f3(observation[2])\n",
        "  avel = f4(observation[3])\n",
        "  elig_trace = np.zeros((10,10,10,10,2))\n",
        "  rwd = 0\n",
        "  for t in range(500):\n",
        "      # print(t)\n",
        "      alpha = 1.0/(len(r)+1)\n",
        "      # if p == 499:\n",
        "      #   frames.append(env.render())\n",
        "      observation, reward, terminated, truncated, info = env.step(action)\n",
        "      ldone.add((pos, vel, apos, avel, action))\n",
        "      posdash = f(observation[0])\n",
        "      veldash = f2(observation[1])\n",
        "      aposdash = f3(observation[2])\n",
        "      aveldash = f4(observation[3])\n",
        "      dice = random.uniform(0, 1)\n",
        "      actiondash = 0\n",
        "     # print(posdash, veldash, aposdash, aveldash)\n",
        "      vals = action_value[posdash][veldash][aposdash][aveldash]\n",
        "      if vals[1] > vals[0]:\n",
        "        actiondash = 1\n",
        "      if vals[0] == vals[1]:\n",
        "        if dice > 0.5:\n",
        "          actiondash = 1\n",
        "      else:\n",
        "        if dice > (epsilon+1)/2:\n",
        "          actiondash = 1 - actiondash\n",
        "      delta = reward + gamma * action_value[posdash][veldash][posdash][aveldash][actiondash] - action_value[pos][vel][apos][avel][action]\n",
        "      elig_trace[pos][vel][apos][avel][action] += 1\n",
        "      for w in ldone:\n",
        "        action_value[w[0]][w[1]][w[2]][w[3]][w[4]] += alpha * delta * elig_trace[w[0]][w[1]][w[2]][w[3]][w[4]]\n",
        "        elig_trace[w[0]][w[1]][w[2]][w[3]][w[4]] *= (gamma * lamda)\n",
        "      pos , vel , apos, avel, action = posdash, veldash, aposdash, aveldash, actiondash\n",
        "      rwd += reward\n",
        "      if terminated or truncated:\n",
        "        break\n",
        "  #r.append(rwd)\n",
        "env.close()\n",
        "# x = [i + 1 for i in range(len(r))]\n",
        "# plt.plot(x, r)\n",
        "# plt.show()\n",
        "# clip = ImageSequenceClip(frames, fps=30)\n",
        "# clip.write_videofile('/home/raghav/Desktop/RL/cartpole.mp4')\n",
        "# Video('/home/raghav/Desktop/RL/cartpole.mp4', embed=True)\n"
      ],
      "metadata": {
        "collapsed": true,
        "id": "gz8n3ZKR0Nst"
      },
      "execution_count": null,
      "outputs": []
    },
    {
      "cell_type": "code",
      "source": [
        "# c = 0\n",
        "# for p in range(10):\n",
        "#   for q in range(10):\n",
        "#     for r in range(10):\n",
        "#       for s in range(10):\n",
        "#         if action_value[p][q][r][s][0] < action_value[p][q][r][s][1]:\n",
        "#           c+=1\n",
        "# print(c)\n",
        "print(action_value[6][6][6][7])"
      ],
      "metadata": {
        "colab": {
          "base_uri": "https://localhost:8080/"
        },
        "id": "lFyX2x21uyMy",
        "outputId": "094415cd-6f76-4113-b8b8-398fa73e56bf",
        "collapsed": true
      },
      "execution_count": 48,
      "outputs": [
        {
          "output_type": "stream",
          "name": "stdout",
          "text": [
            "[0. 0.]\n"
          ]
        }
      ]
    },
    {
      "cell_type": "code",
      "source": [
        "for p in range(1):\n",
        "  frames = []\n",
        "  ldone = set()\n",
        "  observation, info = env.reset()\n",
        "  action = random.choice(l)\n",
        "  pos = f(observation[0])\n",
        "  vel = f2(observation[1])\n",
        "  apos = f3(observation[2])\n",
        "  avel = f4(observation[3])\n",
        "  elig_trace = np.zeros((20,20,20,20,2))\n",
        "  rwd = 0\n",
        "  for t in range(500):\n",
        "      # print(t)\n",
        "      #alpha = 1.0/(t+1)\n",
        "      # if p == 499:\n",
        "      frames.append(env.render())\n",
        "      observation, reward, terminated, truncated, info = env.step(action)\n",
        "      ldone.add((pos, vel, apos, avel, action))\n",
        "      posdash = f(observation[0])\n",
        "      veldash = f2(observation[1])\n",
        "      aposdash = f3(observation[2])\n",
        "      aveldash = f4(observation[3])\n",
        "      dice = random.uniform(0, 1)\n",
        "      actiondash = 0\n",
        "     # print(posdash, veldash, aposdash, aveldash)\n",
        "      vals = action_value[posdash][veldash][aposdash][aveldash]\n",
        "      if vals[1] > vals[0]:\n",
        "        actiondash = 1\n",
        "      if terminated or truncated:\n",
        "\n",
        "        break\n",
        "  #r.append(rwd)\n",
        "env.close()\n",
        "# x = [i + 1 for i in range(len(r))]\n",
        "# plt.plot(x, r)\n",
        "# plt.show()\n",
        "clip = ImageSequenceClip(frames, fps=30)\n",
        "clip.write_videofile('/content/cartpole.mp4')\n",
        "Video('/content/cartpole.mp4', embed=True)\n"
      ],
      "metadata": {
        "colab": {
          "base_uri": "https://localhost:8080/",
          "height": 580
        },
        "id": "-g3rL2IutYHH",
        "outputId": "5e44e7ea-8ba5-4bb5-cc06-1092691e6d40"
      },
      "execution_count": null,
      "outputs": [
        {
          "output_type": "stream",
          "name": "stderr",
          "text": [
            "t:  20%|██        | 2/10 [00:49<03:18, 24.85s/it, now=None]"
          ]
        },
        {
          "output_type": "stream",
          "name": "stdout",
          "text": [
            "Moviepy - Building video /content/cartpole.mp4.\n",
            "Moviepy - Writing video /content/cartpole.mp4\n",
            "\n"
          ]
        },
        {
          "output_type": "stream",
          "name": "stderr",
          "text": [
            "\n",
            "t:   0%|          | 0/9 [00:00<?, ?it/s, now=None]\u001b[A\n",
            "t:  89%|████████▉ | 8/9 [00:00<00:00, 79.23it/s, now=None]\u001b[A\n",
            "t:  20%|██        | 2/10 [00:50<03:21, 25.16s/it, now=None]"
          ]
        },
        {
          "output_type": "stream",
          "name": "stdout",
          "text": [
            "Moviepy - Done !\n",
            "Moviepy - video ready /content/cartpole.mp4\n"
          ]
        },
        {
          "output_type": "execute_result",
          "data": {
            "text/plain": [
              "<IPython.core.display.Video object>"
            ],
            "text/html": [
              "<video controls  >\n",
              " <source src=\"data:video/mp4;base64,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\" type=\"video/mp4\">\n",
              " Your browser does not support the video tag.\n",
              " </video>"
            ]
          },
          "metadata": {},
          "execution_count": 56
        }
      ]
    },
    {
      "cell_type": "code",
      "source": [
        "observation, info = env.reset()\n",
        "frames = []\n",
        "while True:\n",
        "  frames.append(env.render())\n",
        "  action = np.argmax(action_value[f(observation[0])][f2(observation[1])][f3(observation[2])][f4(observation[3])])\n",
        "  observation, reward, terminated, truncated, info = env.step(action)\n",
        "  print(f(observation[0]), f2(observation[1]), f3(observation[2]), f4(observation[3]))\n",
        "  print(action)\n",
        "  if terminated or truncated:\n",
        "    print(f(observation[0]), f2(observation[1]), f3(observation[2]), f4(observation[3]))\n",
        "    print(action)\n",
        "    break\n",
        "env.close()\n",
        "clip = ImageSequenceClip(frames, fps=30)\n",
        "clip.write_videofile('/content/cartpole.mp4')\n",
        "Video('/content/cartpole.mp4', embed=True)\n"
      ],
      "metadata": {
        "colab": {
          "base_uri": "https://localhost:8080/",
          "height": 910
        },
        "id": "MI8WFBPlxq4J",
        "outputId": "344d5b0c-40a2-4431-987f-a83a26062dfd"
      },
      "execution_count": 59,
      "outputs": [
        {
          "output_type": "stream",
          "name": "stdout",
          "text": [
            "5 3 6 8\n",
            "0\n",
            "5 1 6 9\n",
            "0\n",
            "4 0 7 9\n",
            "0\n",
            "4 1 8 9\n",
            "1\n",
            "4 0 9 9\n",
            "0\n",
            "3 0 9 9\n",
            "0\n",
            "2 0 9 9\n",
            "0\n",
            "1 0 9 9\n",
            "0\n",
            "0 0 9 9\n",
            "0\n",
            "0 0 9 9\n",
            "0\n",
            "0 0 9 9\n",
            "0\n",
            "Moviepy - Building video /content/cartpole.mp4.\n",
            "Moviepy - Writing video /content/cartpole.mp4\n",
            "\n"
          ]
        },
        {
          "output_type": "stream",
          "name": "stderr",
          "text": [
            "                                                   "
          ]
        },
        {
          "output_type": "stream",
          "name": "stdout",
          "text": [
            "Moviepy - Done !\n",
            "Moviepy - video ready /content/cartpole.mp4\n"
          ]
        },
        {
          "output_type": "stream",
          "name": "stderr",
          "text": [
            "\r"
          ]
        },
        {
          "output_type": "execute_result",
          "data": {
            "text/plain": [
              "<IPython.core.display.Video object>"
            ],
            "text/html": [
              "<video controls  >\n",
              " <source src=\"data:video/mp4;base64,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\" type=\"video/mp4\">\n",
              " Your browser does not support the video tag.\n",
              " </video>"
            ]
          },
          "metadata": {},
          "execution_count": 59
        }
      ]
    },
    {
      "cell_type": "code",
      "source": [
        "print(action_value[3][3][3][5])"
      ],
      "metadata": {
        "colab": {
          "base_uri": "https://localhost:8080/"
        },
        "id": "sh4jPjtbm5_0",
        "outputId": "2bd360d4-82e8-4915-b030-1a1d7533351a"
      },
      "execution_count": 51,
      "outputs": [
        {
          "output_type": "stream",
          "name": "stdout",
          "text": [
            "[6.06096418 7.15345996]\n"
          ]
        }
      ]
    }
  ]
}