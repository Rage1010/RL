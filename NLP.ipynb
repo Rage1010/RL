{
  "nbformat": 4,
  "nbformat_minor": 0,
  "metadata": {
    "colab": {
      "provenance": []
    },
    "kernelspec": {
      "name": "python3",
      "display_name": "Python 3"
    },
    "language_info": {
      "name": "python"
    }
  },
  "cells": [
    {
      "cell_type": "code",
      "source": [
        "import numpy as np"
      ],
      "metadata": {
        "id": "xYE96rtIUokz"
      },
      "execution_count": 15,
      "outputs": []
    },
    {
      "cell_type": "code",
      "execution_count": 2,
      "metadata": {
        "colab": {
          "base_uri": "https://localhost:8080/"
        },
        "id": "8Vi2s_kNTEoN",
        "outputId": "c81b3f04-ff51-4cc4-b6d6-0fb34a3aea2e"
      },
      "outputs": [
        {
          "output_type": "stream",
          "name": "stdout",
          "text": [
            "Requirement already satisfied: gensim in /usr/local/lib/python3.10/dist-packages (4.3.3)\n",
            "Requirement already satisfied: numpy<2.0,>=1.18.5 in /usr/local/lib/python3.10/dist-packages (from gensim) (1.26.4)\n",
            "Requirement already satisfied: scipy<1.14.0,>=1.7.0 in /usr/local/lib/python3.10/dist-packages (from gensim) (1.13.1)\n",
            "Requirement already satisfied: smart-open>=1.8.1 in /usr/local/lib/python3.10/dist-packages (from gensim) (7.0.4)\n",
            "Requirement already satisfied: wrapt in /usr/local/lib/python3.10/dist-packages (from smart-open>=1.8.1->gensim) (1.16.0)\n",
            "\u001b[31mERROR: Could not find a version that satisfies the requirement ntlk (from versions: none)\u001b[0m\u001b[31m\n",
            "\u001b[0m\u001b[31mERROR: No matching distribution found for ntlk\u001b[0m\u001b[31m\n",
            "\u001b[0mRequirement already satisfied: scikit-learn in /usr/local/lib/python3.10/dist-packages (1.3.2)\n",
            "Requirement already satisfied: numpy<2.0,>=1.17.3 in /usr/local/lib/python3.10/dist-packages (from scikit-learn) (1.26.4)\n",
            "Requirement already satisfied: scipy>=1.5.0 in /usr/local/lib/python3.10/dist-packages (from scikit-learn) (1.13.1)\n",
            "Requirement already satisfied: joblib>=1.1.1 in /usr/local/lib/python3.10/dist-packages (from scikit-learn) (1.4.2)\n",
            "Requirement already satisfied: threadpoolctl>=2.0.0 in /usr/local/lib/python3.10/dist-packages (from scikit-learn) (3.5.0)\n"
          ]
        }
      ],
      "source": [
        "! pip install gensim\n",
        "! pip install ntlk\n",
        "! pip install scikit-learn"
      ]
    },
    {
      "cell_type": "code",
      "source": [
        "from nltk.tokenize import sent_tokenize, word_tokenize\n",
        "import gensim\n",
        "from gensim.models import Word2Vec"
      ],
      "metadata": {
        "id": "IDPyPCC0TM-q"
      },
      "execution_count": 3,
      "outputs": []
    },
    {
      "cell_type": "code",
      "source": [
        "from google.colab import files\n",
        "\n",
        "\n",
        "uploaded = files.upload()"
      ],
      "metadata": {
        "colab": {
          "base_uri": "https://localhost:8080/",
          "height": 73
        },
        "id": "QkmzJXGNSwXz",
        "outputId": "9194c5e6-d462-4b76-8a5d-5df2b45b4e9d"
      },
      "execution_count": 4,
      "outputs": [
        {
          "output_type": "display_data",
          "data": {
            "text/plain": [
              "<IPython.core.display.HTML object>"
            ],
            "text/html": [
              "\n",
              "     <input type=\"file\" id=\"files-0d3ec7b1-6083-4f2f-93f0-a59a10a58323\" name=\"files[]\" multiple disabled\n",
              "        style=\"border:none\" />\n",
              "     <output id=\"result-0d3ec7b1-6083-4f2f-93f0-a59a10a58323\">\n",
              "      Upload widget is only available when the cell has been executed in the\n",
              "      current browser session. Please rerun this cell to enable.\n",
              "      </output>\n",
              "      <script>// Copyright 2017 Google LLC\n",
              "//\n",
              "// Licensed under the Apache License, Version 2.0 (the \"License\");\n",
              "// you may not use this file except in compliance with the License.\n",
              "// You may obtain a copy of the License at\n",
              "//\n",
              "//      http://www.apache.org/licenses/LICENSE-2.0\n",
              "//\n",
              "// Unless required by applicable law or agreed to in writing, software\n",
              "// distributed under the License is distributed on an \"AS IS\" BASIS,\n",
              "// WITHOUT WARRANTIES OR CONDITIONS OF ANY KIND, either express or implied.\n",
              "// See the License for the specific language governing permissions and\n",
              "// limitations under the License.\n",
              "\n",
              "/**\n",
              " * @fileoverview Helpers for google.colab Python module.\n",
              " */\n",
              "(function(scope) {\n",
              "function span(text, styleAttributes = {}) {\n",
              "  const element = document.createElement('span');\n",
              "  element.textContent = text;\n",
              "  for (const key of Object.keys(styleAttributes)) {\n",
              "    element.style[key] = styleAttributes[key];\n",
              "  }\n",
              "  return element;\n",
              "}\n",
              "\n",
              "// Max number of bytes which will be uploaded at a time.\n",
              "const MAX_PAYLOAD_SIZE = 100 * 1024;\n",
              "\n",
              "function _uploadFiles(inputId, outputId) {\n",
              "  const steps = uploadFilesStep(inputId, outputId);\n",
              "  const outputElement = document.getElementById(outputId);\n",
              "  // Cache steps on the outputElement to make it available for the next call\n",
              "  // to uploadFilesContinue from Python.\n",
              "  outputElement.steps = steps;\n",
              "\n",
              "  return _uploadFilesContinue(outputId);\n",
              "}\n",
              "\n",
              "// This is roughly an async generator (not supported in the browser yet),\n",
              "// where there are multiple asynchronous steps and the Python side is going\n",
              "// to poll for completion of each step.\n",
              "// This uses a Promise to block the python side on completion of each step,\n",
              "// then passes the result of the previous step as the input to the next step.\n",
              "function _uploadFilesContinue(outputId) {\n",
              "  const outputElement = document.getElementById(outputId);\n",
              "  const steps = outputElement.steps;\n",
              "\n",
              "  const next = steps.next(outputElement.lastPromiseValue);\n",
              "  return Promise.resolve(next.value.promise).then((value) => {\n",
              "    // Cache the last promise value to make it available to the next\n",
              "    // step of the generator.\n",
              "    outputElement.lastPromiseValue = value;\n",
              "    return next.value.response;\n",
              "  });\n",
              "}\n",
              "\n",
              "/**\n",
              " * Generator function which is called between each async step of the upload\n",
              " * process.\n",
              " * @param {string} inputId Element ID of the input file picker element.\n",
              " * @param {string} outputId Element ID of the output display.\n",
              " * @return {!Iterable<!Object>} Iterable of next steps.\n",
              " */\n",
              "function* uploadFilesStep(inputId, outputId) {\n",
              "  const inputElement = document.getElementById(inputId);\n",
              "  inputElement.disabled = false;\n",
              "\n",
              "  const outputElement = document.getElementById(outputId);\n",
              "  outputElement.innerHTML = '';\n",
              "\n",
              "  const pickedPromise = new Promise((resolve) => {\n",
              "    inputElement.addEventListener('change', (e) => {\n",
              "      resolve(e.target.files);\n",
              "    });\n",
              "  });\n",
              "\n",
              "  const cancel = document.createElement('button');\n",
              "  inputElement.parentElement.appendChild(cancel);\n",
              "  cancel.textContent = 'Cancel upload';\n",
              "  const cancelPromise = new Promise((resolve) => {\n",
              "    cancel.onclick = () => {\n",
              "      resolve(null);\n",
              "    };\n",
              "  });\n",
              "\n",
              "  // Wait for the user to pick the files.\n",
              "  const files = yield {\n",
              "    promise: Promise.race([pickedPromise, cancelPromise]),\n",
              "    response: {\n",
              "      action: 'starting',\n",
              "    }\n",
              "  };\n",
              "\n",
              "  cancel.remove();\n",
              "\n",
              "  // Disable the input element since further picks are not allowed.\n",
              "  inputElement.disabled = true;\n",
              "\n",
              "  if (!files) {\n",
              "    return {\n",
              "      response: {\n",
              "        action: 'complete',\n",
              "      }\n",
              "    };\n",
              "  }\n",
              "\n",
              "  for (const file of files) {\n",
              "    const li = document.createElement('li');\n",
              "    li.append(span(file.name, {fontWeight: 'bold'}));\n",
              "    li.append(span(\n",
              "        `(${file.type || 'n/a'}) - ${file.size} bytes, ` +\n",
              "        `last modified: ${\n",
              "            file.lastModifiedDate ? file.lastModifiedDate.toLocaleDateString() :\n",
              "                                    'n/a'} - `));\n",
              "    const percent = span('0% done');\n",
              "    li.appendChild(percent);\n",
              "\n",
              "    outputElement.appendChild(li);\n",
              "\n",
              "    const fileDataPromise = new Promise((resolve) => {\n",
              "      const reader = new FileReader();\n",
              "      reader.onload = (e) => {\n",
              "        resolve(e.target.result);\n",
              "      };\n",
              "      reader.readAsArrayBuffer(file);\n",
              "    });\n",
              "    // Wait for the data to be ready.\n",
              "    let fileData = yield {\n",
              "      promise: fileDataPromise,\n",
              "      response: {\n",
              "        action: 'continue',\n",
              "      }\n",
              "    };\n",
              "\n",
              "    // Use a chunked sending to avoid message size limits. See b/62115660.\n",
              "    let position = 0;\n",
              "    do {\n",
              "      const length = Math.min(fileData.byteLength - position, MAX_PAYLOAD_SIZE);\n",
              "      const chunk = new Uint8Array(fileData, position, length);\n",
              "      position += length;\n",
              "\n",
              "      const base64 = btoa(String.fromCharCode.apply(null, chunk));\n",
              "      yield {\n",
              "        response: {\n",
              "          action: 'append',\n",
              "          file: file.name,\n",
              "          data: base64,\n",
              "        },\n",
              "      };\n",
              "\n",
              "      let percentDone = fileData.byteLength === 0 ?\n",
              "          100 :\n",
              "          Math.round((position / fileData.byteLength) * 100);\n",
              "      percent.textContent = `${percentDone}% done`;\n",
              "\n",
              "    } while (position < fileData.byteLength);\n",
              "  }\n",
              "\n",
              "  // All done.\n",
              "  yield {\n",
              "    response: {\n",
              "      action: 'complete',\n",
              "    }\n",
              "  };\n",
              "}\n",
              "\n",
              "scope.google = scope.google || {};\n",
              "scope.google.colab = scope.google.colab || {};\n",
              "scope.google.colab._files = {\n",
              "  _uploadFiles,\n",
              "  _uploadFilesContinue,\n",
              "};\n",
              "})(self);\n",
              "</script> "
            ]
          },
          "metadata": {}
        },
        {
          "output_type": "stream",
          "name": "stdout",
          "text": [
            "Saving singapore_airlines_reviews.csv to singapore_airlines_reviews (1).csv\n"
          ]
        }
      ]
    },
    {
      "cell_type": "code",
      "source": [
        "\n",
        "import pandas as pd\n",
        "import io\n",
        "\n",
        "df = pd.read_csv(io.BytesIO(uploaded['singapore_airlines_reviews (1).csv']))\n",
        "print(df)\n"
      ],
      "metadata": {
        "colab": {
          "base_uri": "https://localhost:8080/"
        },
        "id": "y8C5EEtbS-Mg",
        "outputId": "dacefa7e-fb98-4924-b42f-899a43ef4936"
      },
      "execution_count": 7,
      "outputs": [
        {
          "output_type": "stream",
          "name": "stdout",
          "text": [
            "                 published_date published_platform  rating    type  \\\n",
            "0     2024-03-12T14:41:14-04:00            Desktop       3  review   \n",
            "1     2024-03-11T19:39:13-04:00            Desktop       5  review   \n",
            "2     2024-03-11T12:20:23-04:00            Desktop       1  review   \n",
            "3     2024-03-11T07:12:27-04:00            Desktop       5  review   \n",
            "4     2024-03-10T05:34:18-04:00            Desktop       2  review   \n",
            "...                         ...                ...     ...     ...   \n",
            "9995  2018-08-06T03:48:21-04:00            Desktop       5  review   \n",
            "9996  2018-08-05T22:50:29-04:00             Mobile       5  review   \n",
            "9997  2018-08-05T22:47:06-04:00            Desktop       5  review   \n",
            "9998  2018-08-05T20:32:03-04:00            Desktop       4  review   \n",
            "9999  2018-08-05T20:19:51-04:00            Desktop       4  review   \n",
            "\n",
            "                                                   text  \\\n",
            "0     We used this airline to go from Singapore to L...   \n",
            "1     The service on Singapore Airlines Suites Class...   \n",
            "2     Booked, paid and received email confirmation f...   \n",
            "3     Best airline in the world, seats, food, servic...   \n",
            "4     Premium Economy Seating on Singapore Airlines ...   \n",
            "...                                                 ...   \n",
            "9995  First part done with Singapore Airlines - acce...   \n",
            "9996  And again a great Flight with Singapore Air. G...   \n",
            "9997  We flew business class from Frankfurt, via Sin...   \n",
            "9998  As always, the A380 aircraft was spotlessly pr...   \n",
            "9999  As always, Singapore Airlines has done it agai...   \n",
            "\n",
            "                                                  title  helpful_votes  \n",
            "0                                                    Ok              0  \n",
            "1     The service in Suites Class makes one feel lik...              0  \n",
            "2                            Don’t give them your money              0  \n",
            "3                             Best Airline in the World              0  \n",
            "4     Premium Economy Seating on Singapore Airlines ...              0  \n",
            "...                                                 ...            ...  \n",
            "9995  Flew to NZ 1st half Singapore Airlines, 2nd ha...              1  \n",
            "9996                                       Best Airline              1  \n",
            "9997               Superb service on Singapore Airlines              1  \n",
            "9998  A Comfortable Fiight Spoiled by lack of adequa...              2  \n",
            "9999                           Delivered as expected :)              3  \n",
            "\n",
            "[10000 rows x 7 columns]\n"
          ]
        }
      ]
    },
    {
      "cell_type": "code",
      "source": [
        "# print(df[\"text\"])\n",
        "reviews = np.array(df[\"text\"])\n",
        "rating = np.array(df['rating'])\n",
        "# print(reviews)\n",
        "trainans = rating[:8000]\n",
        "testans = rating[8000:]\n",
        "# print(trainans)"
      ],
      "metadata": {
        "id": "Sh1EV-yRUNRk"
      },
      "execution_count": 8,
      "outputs": []
    },
    {
      "cell_type": "code",
      "source": [
        "from sklearn.feature_extraction.text import TfidfVectorizer\n",
        "\n",
        "vectorizer = TfidfVectorizer()\n",
        "\n",
        "\n",
        "tfidf_matrix = vectorizer.fit_transform(reviews)\n",
        "\n",
        "tfidf_array = tfidf_matrix.toarray()\n",
        "train = tfidf_array[:8000]\n",
        "test = tfidf_array[8000:]\n",
        "print(tfidf_array)\n",
        "\n"
      ],
      "metadata": {
        "colab": {
          "base_uri": "https://localhost:8080/"
        },
        "id": "tLy14-DzSG7X",
        "outputId": "085bb7ed-bc88-4aef-821d-2cbbbd256021"
      },
      "execution_count": 9,
      "outputs": [
        {
          "output_type": "stream",
          "name": "stdout",
          "text": [
            "[[0. 0. 0. ... 0. 0. 0.]\n",
            " [0. 0. 0. ... 0. 0. 0.]\n",
            " [0. 0. 0. ... 0. 0. 0.]\n",
            " ...\n",
            " [0. 0. 0. ... 0. 0. 0.]\n",
            " [0. 0. 0. ... 0. 0. 0.]\n",
            " [0. 0. 0. ... 0. 0. 0.]]\n"
          ]
        }
      ]
    },
    {
      "cell_type": "code",
      "source": [
        "from sklearn.linear_model import LinearRegression\n",
        "\n",
        "model = LinearRegression()\n",
        "\n",
        "model.fit(train[:8000], trainans[:8000])\n",
        "\n",
        "ans_pred = model.predict(test)\n",
        "near = 0\n",
        "accurate_results = 0\n",
        "for i in range(2000):\n",
        "  a = ans_pred[i]\n",
        "  if a >= 4.5:\n",
        "    ans_pred[i] = 5\n",
        "  elif a >= 3.5:\n",
        "    ans_pred[i] = 4\n",
        "  elif a >= 2.5:\n",
        "    ans_pred[i] = 3\n",
        "  elif a >= 1.5:\n",
        "    ans_pred[i] = 2\n",
        "  else:\n",
        "    ans_pred[i] = 1\n",
        "  if ans_pred[i] == testans[i]:\n",
        "    accurate_results += 1\n",
        "  if ans_pred[i] - testans[i] <= 1 and ans_pred[i] - testans[i] >= -1:\n",
        "    near += 1\n",
        "print(accurate_results)\n",
        "print(near)"
      ],
      "metadata": {
        "colab": {
          "base_uri": "https://localhost:8080/"
        },
        "id": "HiGfvqH0aYqB",
        "outputId": "c275f44c-b118-45f9-d726-25fcc6d0cca4"
      },
      "execution_count": 14,
      "outputs": [
        {
          "output_type": "stream",
          "name": "stdout",
          "text": [
            "867\n"
          ]
        }
      ]
    },
    {
      "cell_type": "markdown",
      "source": [
        "A linear regression model is clearly incapable of properly identifying the sentiments. However it still does a way better job than what a random classifier would have achieved. We get an accuracy of 43 percent here as oppposed to the expected random accuracy of 20 percent."
      ],
      "metadata": {
        "id": "t2hTkuhPOvaR"
      }
    },
    {
      "cell_type": "code",
      "source": [
        "from sklearn.tree import DecisionTreeRegressor\n",
        "\n",
        "model = DecisionTreeRegressor()\n",
        "\n",
        "model.fit(train[:8000], trainans[:8000])\n",
        "\n",
        "ans_pred = model.predict(test)\n",
        "near  = 0\n",
        "accurate_results = 0\n",
        "for i in range(2000):\n",
        "  a = ans_pred[i]\n",
        "  if a >= 4.5:\n",
        "    ans_pred[i] = 5\n",
        "  elif a >= 3.5:\n",
        "    ans_pred[i] = 4\n",
        "  elif a >= 2.5:\n",
        "    ans_pred[i] = 3\n",
        "  elif a >= 1.5:\n",
        "    ans_pred[i] = 2\n",
        "  else:\n",
        "    ans_pred[i] = 1\n",
        "  if ans_pred[i] == testans[i]:\n",
        "    accurate_results += 1\n",
        "  if ans_pred[i] - testans[i] <= 1 and ans_pred[i] - testans[i] >= -1:\n",
        "    near += 1\n",
        "print(accurate_results)\n",
        "print(near)"
      ],
      "metadata": {
        "colab": {
          "base_uri": "https://localhost:8080/"
        },
        "id": "bhrQOBTfKYFA",
        "outputId": "e7a38875-e731-4698-a967-2bfe92297e37"
      },
      "execution_count": 16,
      "outputs": [
        {
          "output_type": "stream",
          "name": "stdout",
          "text": [
            "1037\n"
          ]
        }
      ]
    },
    {
      "cell_type": "markdown",
      "source": [
        "With a way faster runtime, The Decision Tree Regressor achieved an accuracy of 52 percent."
      ],
      "metadata": {
        "id": "vCc0qWLUPi0L"
      }
    },
    {
      "cell_type": "code",
      "source": [
        "from sklearn.linear_model import Lasso\n",
        "\n",
        "model = Lasso(alpha = 0.1)\n",
        "\n",
        "model.fit(train[:8000], trainans[:8000])\n",
        "\n",
        "ans_pred = model.predict(test)\n",
        "near = 0\n",
        "accurate_results = 0\n",
        "for i in range(2000):\n",
        "  a = ans_pred[i]\n",
        "  if a >= 4.5:\n",
        "    ans_pred[i] = 5\n",
        "  elif a >= 3.5:\n",
        "    ans_pred[i] = 4\n",
        "  elif a >= 2.5:\n",
        "    ans_pred[i] = 3\n",
        "  elif a >= 1.5:\n",
        "    ans_pred[i] = 2\n",
        "  else:\n",
        "    ans_pred[i] = 1\n",
        "  if ans_pred[i] == testans[i]:\n",
        "    accurate_results += 1\n",
        "  if ans_pred[i] - testans[i] <= 1 and ans_pred[i] - testans[i] >= -1:\n",
        "    near += 1\n",
        "print(accurate_results)\n",
        "print(near)"
      ],
      "metadata": {
        "colab": {
          "base_uri": "https://localhost:8080/"
        },
        "id": "30PUlhKIPshi",
        "outputId": "ad95c199-c3b9-4995-d19b-7b9f1e992017"
      },
      "execution_count": 18,
      "outputs": [
        {
          "output_type": "stream",
          "name": "stdout",
          "text": [
            "491\n"
          ]
        }
      ]
    },
    {
      "cell_type": "code",
      "source": [
        "from sklearn import linear_model\n",
        "\n",
        "model = linear_model.BayesianRidge()\n",
        "\n",
        "model.fit(train[:8000], trainans[:8000])\n",
        "\n",
        "ans_pred = model.predict(test)\n",
        "near = 0\n",
        "accurate_results = 0\n",
        "for i in range(2000):\n",
        "  a = ans_pred[i]\n",
        "  if a >= 4.5:\n",
        "    ans_pred[i] = 5\n",
        "  elif a >= 3.5:\n",
        "    ans_pred[i] = 4\n",
        "  elif a >= 2.5:\n",
        "    ans_pred[i] = 3\n",
        "  elif a >= 1.5:\n",
        "    ans_pred[i] = 2\n",
        "  else:\n",
        "    ans_pred[i] = 1\n",
        "  if ans_pred[i] == testans[i]:\n",
        "    accurate_results += 1\n",
        "  if ans_pred[i] - testans[i] <= 1 and ans_pred[i] - testans[i] >= -1:\n",
        "    near += 1\n",
        "print(accurate_results)\n",
        "print(near)"
      ],
      "metadata": {
        "colab": {
          "base_uri": "https://localhost:8080/"
        },
        "id": "pmTdUlunR3rV",
        "outputId": "5f91a3ef-978b-4588-a05c-8178072be4c9"
      },
      "execution_count": 22,
      "outputs": [
        {
          "output_type": "stream",
          "name": "stdout",
          "text": [
            "1098\n",
            "1896\n"
          ]
        }
      ]
    },
    {
      "cell_type": "markdown",
      "source": [],
      "metadata": {
        "id": "vC_aufcIR3am"
      }
    },
    {
      "cell_type": "markdown",
      "source": [
        "As we can see, we achieve a staggering accuracy of 55 percent with a Bayesian Ridge Model. Moreover, of the rest, the ones which lie within +- 1 are: 95 percent. Reviews are in general hard to predict hence these numbers are in my opinion sufficient."
      ],
      "metadata": {
        "id": "I7lF8GqtW4Hm"
      }
    }
  ]
}